{
 "cells": [
  {
   "cell_type": "markdown",
   "id": "25d7736c-ba17-4aff-b6bb-66eba20fbf4e",
   "metadata": {},
   "source": [
    "# Lab | Pandas"
   ]
  },
  {
   "cell_type": "markdown",
   "id": "d1973e9e-8be6-4039-b70e-d73ee0d94c99",
   "metadata": {},
   "source": [
    "In this lab, we will be working with the customer data from an insurance company, which can be found in the CSV file located at the following link: https://raw.githubusercontent.com/data-bootcamp-v4/data/main/file1.csv\n",
    "\n",
    "The data includes information such as customer ID, state, gender, education, income, and other variables that can be used to perform various analyses.\n",
    "\n",
    "Throughout the lab, we will be using the pandas library in Python to manipulate and analyze the data. Pandas is a powerful library that provides various data manipulation and analysis tools, including the ability to load and manipulate data from a variety of sources, including CSV files."
   ]
  },
  {
   "cell_type": "markdown",
   "id": "8045146f-f4f7-44d9-8cd9-130d6400c73a",
   "metadata": {},
   "source": [
    "### Data Description\n",
    "\n",
    "- Customer - Customer ID\n",
    "\n",
    "- ST - State where customers live\n",
    "\n",
    "- Gender - Gender of the customer\n",
    "\n",
    "- Education - Background education of customers \n",
    "\n",
    "- Customer Lifetime Value - Customer lifetime value(CLV) is the total revenue the client will derive from their entire relationship with a customer. In other words, is the predicted or calculated value of a customer over their entire duration as a policyholder with the insurance company. It is an estimation of the net profit that the insurance company expects to generate from a customer throughout their relationship with the company. Customer Lifetime Value takes into account factors such as the duration of the customer's policy, premium payments, claim history, renewal likelihood, and potential additional services or products the customer may purchase. It helps insurers assess the long-term profitability and value associated with retaining a particular customer.\n",
    "\n",
    "- Income - Customers income\n",
    "\n",
    "- Monthly Premium Auto - Amount of money the customer pays on a monthly basis as a premium for their auto insurance coverage. It represents the recurring cost that the insured person must pay to maintain their insurance policy and receive coverage for potential damages, accidents, or other covered events related to their vehicle.\n",
    "\n",
    "- Number of Open Complaints - Number of complaints the customer opened\n",
    "\n",
    "- Policy Type - There are three type of policies in car insurance (Corporate Auto, Personal Auto, and Special Auto)\n",
    "\n",
    "- Vehicle Class - Type of vehicle classes that customers have Two-Door Car, Four-Door Car SUV, Luxury SUV, Sports Car, and Luxury Car\n",
    "\n",
    "- Total Claim Amount - the sum of all claims made by the customer. It represents the total monetary value of all approved claims for incidents such as accidents, theft, vandalism, or other covered events.\n"
   ]
  },
  {
   "cell_type": "markdown",
   "id": "3a72419b-20fc-4905-817a-8c83abc59de6",
   "metadata": {},
   "source": [
    "External Resources: https://towardsdatascience.com/filtering-data-frames-in-pandas-b570b1f834b9"
   ]
  },
  {
   "cell_type": "markdown",
   "id": "8f8ece17-e919-4e23-96c0-c7c59778436a",
   "metadata": {},
   "source": [
    "## Challenge 1: Understanding the data\n",
    "\n",
    "In this challenge, you will use pandas to explore a given dataset. Your task is to gain a deep understanding of the data by analyzing its characteristics, dimensions, and statistical properties."
   ]
  },
  {
   "cell_type": "markdown",
   "id": "91437bd5-59a6-49c0-8150-ef0e6e6eb253",
   "metadata": {},
   "source": [
    "- Identify the dimensions of the dataset by determining the number of rows and columns it contains.\n",
    "- Determine the data types of each column and evaluate whether they are appropriate for the nature of the variable. You should also provide suggestions for fixing any incorrect data types.\n",
    "- Identify the number of unique values for each column and determine which columns appear to be categorical. You should also describe the unique values of each categorical column and the range of values for numerical columns, and give your insights.\n",
    "- Compute summary statistics such as mean, median, mode, standard deviation, and quartiles to understand the central tendency and distribution of the data for numerical columns. You should also provide your conclusions based on these summary statistics.\n",
    "- Compute summary statistics for categorical columns and providing your conclusions based on these statistics."
   ]
  },
  {
   "cell_type": "code",
   "execution_count": 1,
   "id": "401d5807",
   "metadata": {},
   "outputs": [
    {
     "name": "stdout",
     "output_type": "stream",
     "text": [
      "Requirement already satisfied: seaborn in c:\\users\\cpall\\appdata\\local\\programs\\python\\python312\\lib\\site-packages (0.13.2)\n",
      "Requirement already satisfied: numpy!=1.24.0,>=1.20 in c:\\users\\cpall\\appdata\\local\\programs\\python\\python312\\lib\\site-packages (from seaborn) (2.3.4)\n",
      "Requirement already satisfied: pandas>=1.2 in c:\\users\\cpall\\appdata\\local\\programs\\python\\python312\\lib\\site-packages (from seaborn) (2.3.3)\n",
      "Requirement already satisfied: matplotlib!=3.6.1,>=3.4 in c:\\users\\cpall\\appdata\\local\\programs\\python\\python312\\lib\\site-packages (from seaborn) (3.10.7)\n",
      "Requirement already satisfied: contourpy>=1.0.1 in c:\\users\\cpall\\appdata\\local\\programs\\python\\python312\\lib\\site-packages (from matplotlib!=3.6.1,>=3.4->seaborn) (1.3.3)\n",
      "Requirement already satisfied: cycler>=0.10 in c:\\users\\cpall\\appdata\\local\\programs\\python\\python312\\lib\\site-packages (from matplotlib!=3.6.1,>=3.4->seaborn) (0.12.1)\n",
      "Requirement already satisfied: fonttools>=4.22.0 in c:\\users\\cpall\\appdata\\local\\programs\\python\\python312\\lib\\site-packages (from matplotlib!=3.6.1,>=3.4->seaborn) (4.60.1)\n",
      "Requirement already satisfied: kiwisolver>=1.3.1 in c:\\users\\cpall\\appdata\\local\\programs\\python\\python312\\lib\\site-packages (from matplotlib!=3.6.1,>=3.4->seaborn) (1.4.9)\n",
      "Requirement already satisfied: packaging>=20.0 in c:\\users\\cpall\\appdata\\roaming\\python\\python312\\site-packages (from matplotlib!=3.6.1,>=3.4->seaborn) (25.0)\n",
      "Requirement already satisfied: pillow>=8 in c:\\users\\cpall\\appdata\\local\\programs\\python\\python312\\lib\\site-packages (from matplotlib!=3.6.1,>=3.4->seaborn) (12.0.0)\n",
      "Requirement already satisfied: pyparsing>=3 in c:\\users\\cpall\\appdata\\local\\programs\\python\\python312\\lib\\site-packages (from matplotlib!=3.6.1,>=3.4->seaborn) (3.2.5)\n",
      "Requirement already satisfied: python-dateutil>=2.7 in c:\\users\\cpall\\appdata\\roaming\\python\\python312\\site-packages (from matplotlib!=3.6.1,>=3.4->seaborn) (2.9.0.post0)\n",
      "Requirement already satisfied: pytz>=2020.1 in c:\\users\\cpall\\appdata\\local\\programs\\python\\python312\\lib\\site-packages (from pandas>=1.2->seaborn) (2025.2)\n",
      "Requirement already satisfied: tzdata>=2022.7 in c:\\users\\cpall\\appdata\\local\\programs\\python\\python312\\lib\\site-packages (from pandas>=1.2->seaborn) (2025.2)\n",
      "Requirement already satisfied: six>=1.5 in c:\\users\\cpall\\appdata\\roaming\\python\\python312\\site-packages (from python-dateutil>=2.7->matplotlib!=3.6.1,>=3.4->seaborn) (1.17.0)\n"
     ]
    },
    {
     "name": "stderr",
     "output_type": "stream",
     "text": [
      "\n",
      "[notice] A new release of pip is available: 24.3.1 -> 25.2\n",
      "[notice] To update, run: python.exe -m pip install --upgrade pip\n"
     ]
    }
   ],
   "source": [
    "!pip install seaborn"
   ]
  },
  {
   "cell_type": "code",
   "execution_count": 34,
   "id": "9e638510",
   "metadata": {},
   "outputs": [],
   "source": [
    "import pandas as pd\n",
    "import seaborn as sns\n",
    "import matplotlib as plt"
   ]
  },
  {
   "cell_type": "code",
   "execution_count": 3,
   "id": "dd4e8cd8-a6f6-486c-a5c4-1745b0c035f4",
   "metadata": {},
   "outputs": [
    {
     "data": {
      "text/html": [
       "<div>\n",
       "<style scoped>\n",
       "    .dataframe tbody tr th:only-of-type {\n",
       "        vertical-align: middle;\n",
       "    }\n",
       "\n",
       "    .dataframe tbody tr th {\n",
       "        vertical-align: top;\n",
       "    }\n",
       "\n",
       "    .dataframe thead th {\n",
       "        text-align: right;\n",
       "    }\n",
       "</style>\n",
       "<table border=\"1\" class=\"dataframe\">\n",
       "  <thead>\n",
       "    <tr style=\"text-align: right;\">\n",
       "      <th></th>\n",
       "      <th>Customer</th>\n",
       "      <th>ST</th>\n",
       "      <th>GENDER</th>\n",
       "      <th>Education</th>\n",
       "      <th>Customer Lifetime Value</th>\n",
       "      <th>Income</th>\n",
       "      <th>Monthly Premium Auto</th>\n",
       "      <th>Number of Open Complaints</th>\n",
       "      <th>Policy Type</th>\n",
       "      <th>Vehicle Class</th>\n",
       "      <th>Total Claim Amount</th>\n",
       "    </tr>\n",
       "  </thead>\n",
       "  <tbody>\n",
       "    <tr>\n",
       "      <th>0</th>\n",
       "      <td>RB50392</td>\n",
       "      <td>Washington</td>\n",
       "      <td>NaN</td>\n",
       "      <td>Master</td>\n",
       "      <td>NaN</td>\n",
       "      <td>0.00</td>\n",
       "      <td>1,000.00</td>\n",
       "      <td>1/0/00</td>\n",
       "      <td>Personal Auto</td>\n",
       "      <td>Four-Door Car</td>\n",
       "      <td>2.70</td>\n",
       "    </tr>\n",
       "    <tr>\n",
       "      <th>1</th>\n",
       "      <td>QZ44356</td>\n",
       "      <td>Arizona</td>\n",
       "      <td>F</td>\n",
       "      <td>Bachelor</td>\n",
       "      <td>697953.59%</td>\n",
       "      <td>0.00</td>\n",
       "      <td>94.00</td>\n",
       "      <td>1/0/00</td>\n",
       "      <td>Personal Auto</td>\n",
       "      <td>Four-Door Car</td>\n",
       "      <td>1,131.46</td>\n",
       "    </tr>\n",
       "    <tr>\n",
       "      <th>2</th>\n",
       "      <td>AI49188</td>\n",
       "      <td>Nevada</td>\n",
       "      <td>F</td>\n",
       "      <td>Bachelor</td>\n",
       "      <td>1288743.17%</td>\n",
       "      <td>48,767.00</td>\n",
       "      <td>108.00</td>\n",
       "      <td>1/0/00</td>\n",
       "      <td>Personal Auto</td>\n",
       "      <td>Two-Door Car</td>\n",
       "      <td>566.47</td>\n",
       "    </tr>\n",
       "    <tr>\n",
       "      <th>3</th>\n",
       "      <td>WW63253</td>\n",
       "      <td>California</td>\n",
       "      <td>M</td>\n",
       "      <td>Bachelor</td>\n",
       "      <td>764586.18%</td>\n",
       "      <td>0.00</td>\n",
       "      <td>106.00</td>\n",
       "      <td>1/0/00</td>\n",
       "      <td>Corporate Auto</td>\n",
       "      <td>SUV</td>\n",
       "      <td>529.88</td>\n",
       "    </tr>\n",
       "    <tr>\n",
       "      <th>4</th>\n",
       "      <td>GA49547</td>\n",
       "      <td>Washington</td>\n",
       "      <td>M</td>\n",
       "      <td>High School or Below</td>\n",
       "      <td>536307.65%</td>\n",
       "      <td>36,357.00</td>\n",
       "      <td>68.00</td>\n",
       "      <td>1/0/00</td>\n",
       "      <td>Personal Auto</td>\n",
       "      <td>Four-Door Car</td>\n",
       "      <td>17.27</td>\n",
       "    </tr>\n",
       "    <tr>\n",
       "      <th>...</th>\n",
       "      <td>...</td>\n",
       "      <td>...</td>\n",
       "      <td>...</td>\n",
       "      <td>...</td>\n",
       "      <td>...</td>\n",
       "      <td>...</td>\n",
       "      <td>...</td>\n",
       "      <td>...</td>\n",
       "      <td>...</td>\n",
       "      <td>...</td>\n",
       "      <td>...</td>\n",
       "    </tr>\n",
       "    <tr>\n",
       "      <th>4003</th>\n",
       "      <td>NaN</td>\n",
       "      <td>NaN</td>\n",
       "      <td>NaN</td>\n",
       "      <td>NaN</td>\n",
       "      <td>NaN</td>\n",
       "      <td>NaN</td>\n",
       "      <td>NaN</td>\n",
       "      <td>NaN</td>\n",
       "      <td>NaN</td>\n",
       "      <td>NaN</td>\n",
       "      <td>NaN</td>\n",
       "    </tr>\n",
       "    <tr>\n",
       "      <th>4004</th>\n",
       "      <td>NaN</td>\n",
       "      <td>NaN</td>\n",
       "      <td>NaN</td>\n",
       "      <td>NaN</td>\n",
       "      <td>NaN</td>\n",
       "      <td>NaN</td>\n",
       "      <td>NaN</td>\n",
       "      <td>NaN</td>\n",
       "      <td>NaN</td>\n",
       "      <td>NaN</td>\n",
       "      <td>NaN</td>\n",
       "    </tr>\n",
       "    <tr>\n",
       "      <th>4005</th>\n",
       "      <td>NaN</td>\n",
       "      <td>NaN</td>\n",
       "      <td>NaN</td>\n",
       "      <td>NaN</td>\n",
       "      <td>NaN</td>\n",
       "      <td>NaN</td>\n",
       "      <td>NaN</td>\n",
       "      <td>NaN</td>\n",
       "      <td>NaN</td>\n",
       "      <td>NaN</td>\n",
       "      <td>NaN</td>\n",
       "    </tr>\n",
       "    <tr>\n",
       "      <th>4006</th>\n",
       "      <td>NaN</td>\n",
       "      <td>NaN</td>\n",
       "      <td>NaN</td>\n",
       "      <td>NaN</td>\n",
       "      <td>NaN</td>\n",
       "      <td>NaN</td>\n",
       "      <td>NaN</td>\n",
       "      <td>NaN</td>\n",
       "      <td>NaN</td>\n",
       "      <td>NaN</td>\n",
       "      <td>NaN</td>\n",
       "    </tr>\n",
       "    <tr>\n",
       "      <th>4007</th>\n",
       "      <td>NaN</td>\n",
       "      <td>NaN</td>\n",
       "      <td>NaN</td>\n",
       "      <td>NaN</td>\n",
       "      <td>NaN</td>\n",
       "      <td>NaN</td>\n",
       "      <td>NaN</td>\n",
       "      <td>NaN</td>\n",
       "      <td>NaN</td>\n",
       "      <td>NaN</td>\n",
       "      <td>NaN</td>\n",
       "    </tr>\n",
       "  </tbody>\n",
       "</table>\n",
       "<p>4008 rows × 11 columns</p>\n",
       "</div>"
      ],
      "text/plain": [
       "     Customer          ST GENDER             Education  \\\n",
       "0     RB50392  Washington    NaN                Master   \n",
       "1     QZ44356     Arizona      F              Bachelor   \n",
       "2     AI49188      Nevada      F              Bachelor   \n",
       "3     WW63253  California      M              Bachelor   \n",
       "4     GA49547  Washington      M  High School or Below   \n",
       "...       ...         ...    ...                   ...   \n",
       "4003      NaN         NaN    NaN                   NaN   \n",
       "4004      NaN         NaN    NaN                   NaN   \n",
       "4005      NaN         NaN    NaN                   NaN   \n",
       "4006      NaN         NaN    NaN                   NaN   \n",
       "4007      NaN         NaN    NaN                   NaN   \n",
       "\n",
       "     Customer Lifetime Value    Income  Monthly Premium Auto  \\\n",
       "0                        NaN      0.00              1,000.00   \n",
       "1                 697953.59%      0.00                 94.00   \n",
       "2                1288743.17% 48,767.00                108.00   \n",
       "3                 764586.18%      0.00                106.00   \n",
       "4                 536307.65% 36,357.00                 68.00   \n",
       "...                      ...       ...                   ...   \n",
       "4003                     NaN       NaN                   NaN   \n",
       "4004                     NaN       NaN                   NaN   \n",
       "4005                     NaN       NaN                   NaN   \n",
       "4006                     NaN       NaN                   NaN   \n",
       "4007                     NaN       NaN                   NaN   \n",
       "\n",
       "     Number of Open Complaints     Policy Type  Vehicle Class  \\\n",
       "0                       1/0/00   Personal Auto  Four-Door Car   \n",
       "1                       1/0/00   Personal Auto  Four-Door Car   \n",
       "2                       1/0/00   Personal Auto   Two-Door Car   \n",
       "3                       1/0/00  Corporate Auto            SUV   \n",
       "4                       1/0/00   Personal Auto  Four-Door Car   \n",
       "...                        ...             ...            ...   \n",
       "4003                       NaN             NaN            NaN   \n",
       "4004                       NaN             NaN            NaN   \n",
       "4005                       NaN             NaN            NaN   \n",
       "4006                       NaN             NaN            NaN   \n",
       "4007                       NaN             NaN            NaN   \n",
       "\n",
       "      Total Claim Amount  \n",
       "0                   2.70  \n",
       "1               1,131.46  \n",
       "2                 566.47  \n",
       "3                 529.88  \n",
       "4                  17.27  \n",
       "...                  ...  \n",
       "4003                 NaN  \n",
       "4004                 NaN  \n",
       "4005                 NaN  \n",
       "4006                 NaN  \n",
       "4007                 NaN  \n",
       "\n",
       "[4008 rows x 11 columns]"
      ]
     },
     "execution_count": 3,
     "metadata": {},
     "output_type": "execute_result"
    }
   ],
   "source": [
    "# Load dataset from an online source\n",
    "url = 'https://raw.githubusercontent.com/data-bootcamp-v4/data/main/file1.csv'\n",
    "customer_df = pd.read_csv(url)\n",
    "pd.options.display.float_format = '{:,.2f}'.format\n",
    "customer_df"
   ]
  },
  {
   "cell_type": "code",
   "execution_count": 4,
   "id": "1b9e6f3a",
   "metadata": {},
   "outputs": [
    {
     "data": {
      "text/plain": [
       "(4008, 11)"
      ]
     },
     "execution_count": 4,
     "metadata": {},
     "output_type": "execute_result"
    }
   ],
   "source": [
    "# Identify the dimensions of the dataset by determining the number of rows and columns it contains.\n",
    "customer_df.shape"
   ]
  },
  {
   "cell_type": "code",
   "execution_count": 5,
   "id": "6039bdff",
   "metadata": {},
   "outputs": [
    {
     "data": {
      "text/plain": [
       "Customer                      object\n",
       "ST                            object\n",
       "GENDER                        object\n",
       "Education                     object\n",
       "Customer Lifetime Value       object\n",
       "Income                       float64\n",
       "Monthly Premium Auto         float64\n",
       "Number of Open Complaints     object\n",
       "Policy Type                   object\n",
       "Vehicle Class                 object\n",
       "Total Claim Amount           float64\n",
       "dtype: object"
      ]
     },
     "execution_count": 5,
     "metadata": {},
     "output_type": "execute_result"
    }
   ],
   "source": [
    "# Determine the data types of each column and evaluate whether they are appropriate for the nature of the variable.\n",
    "# You should also provide suggestions for fixing any incorrect data types.\n",
    "customer_df.dtypes"
   ]
  },
  {
   "cell_type": "code",
   "execution_count": 6,
   "id": "42be82af",
   "metadata": {},
   "outputs": [
    {
     "data": {
      "text/html": [
       "<div>\n",
       "<style scoped>\n",
       "    .dataframe tbody tr th:only-of-type {\n",
       "        vertical-align: middle;\n",
       "    }\n",
       "\n",
       "    .dataframe tbody tr th {\n",
       "        vertical-align: top;\n",
       "    }\n",
       "\n",
       "    .dataframe thead th {\n",
       "        text-align: right;\n",
       "    }\n",
       "</style>\n",
       "<table border=\"1\" class=\"dataframe\">\n",
       "  <thead>\n",
       "    <tr style=\"text-align: right;\">\n",
       "      <th></th>\n",
       "      <th>Customer</th>\n",
       "      <th>ST</th>\n",
       "      <th>GENDER</th>\n",
       "      <th>Education</th>\n",
       "      <th>Customer Lifetime Value</th>\n",
       "      <th>Income</th>\n",
       "      <th>Monthly Premium Auto</th>\n",
       "      <th>Number of Open Complaints</th>\n",
       "      <th>Policy Type</th>\n",
       "      <th>Vehicle Class</th>\n",
       "      <th>Total Claim Amount</th>\n",
       "    </tr>\n",
       "  </thead>\n",
       "  <tbody>\n",
       "    <tr>\n",
       "      <th>0</th>\n",
       "      <td>RB50392</td>\n",
       "      <td>Washington</td>\n",
       "      <td>NaN</td>\n",
       "      <td>Master</td>\n",
       "      <td>NaN</td>\n",
       "      <td>0.00</td>\n",
       "      <td>1,000.00</td>\n",
       "      <td>1/0/00</td>\n",
       "      <td>Personal Auto</td>\n",
       "      <td>Four-Door Car</td>\n",
       "      <td>2.70</td>\n",
       "    </tr>\n",
       "    <tr>\n",
       "      <th>1</th>\n",
       "      <td>QZ44356</td>\n",
       "      <td>Arizona</td>\n",
       "      <td>F</td>\n",
       "      <td>Bachelor</td>\n",
       "      <td>697953.59%</td>\n",
       "      <td>0.00</td>\n",
       "      <td>94.00</td>\n",
       "      <td>1/0/00</td>\n",
       "      <td>Personal Auto</td>\n",
       "      <td>Four-Door Car</td>\n",
       "      <td>1,131.46</td>\n",
       "    </tr>\n",
       "    <tr>\n",
       "      <th>2</th>\n",
       "      <td>AI49188</td>\n",
       "      <td>Nevada</td>\n",
       "      <td>F</td>\n",
       "      <td>Bachelor</td>\n",
       "      <td>1288743.17%</td>\n",
       "      <td>48,767.00</td>\n",
       "      <td>108.00</td>\n",
       "      <td>1/0/00</td>\n",
       "      <td>Personal Auto</td>\n",
       "      <td>Two-Door Car</td>\n",
       "      <td>566.47</td>\n",
       "    </tr>\n",
       "    <tr>\n",
       "      <th>3</th>\n",
       "      <td>WW63253</td>\n",
       "      <td>California</td>\n",
       "      <td>M</td>\n",
       "      <td>Bachelor</td>\n",
       "      <td>764586.18%</td>\n",
       "      <td>0.00</td>\n",
       "      <td>106.00</td>\n",
       "      <td>1/0/00</td>\n",
       "      <td>Corporate Auto</td>\n",
       "      <td>SUV</td>\n",
       "      <td>529.88</td>\n",
       "    </tr>\n",
       "    <tr>\n",
       "      <th>4</th>\n",
       "      <td>GA49547</td>\n",
       "      <td>Washington</td>\n",
       "      <td>M</td>\n",
       "      <td>High School or Below</td>\n",
       "      <td>536307.65%</td>\n",
       "      <td>36,357.00</td>\n",
       "      <td>68.00</td>\n",
       "      <td>1/0/00</td>\n",
       "      <td>Personal Auto</td>\n",
       "      <td>Four-Door Car</td>\n",
       "      <td>17.27</td>\n",
       "    </tr>\n",
       "  </tbody>\n",
       "</table>\n",
       "</div>"
      ],
      "text/plain": [
       "  Customer          ST GENDER             Education Customer Lifetime Value  \\\n",
       "0  RB50392  Washington    NaN                Master                     NaN   \n",
       "1  QZ44356     Arizona      F              Bachelor              697953.59%   \n",
       "2  AI49188      Nevada      F              Bachelor             1288743.17%   \n",
       "3  WW63253  California      M              Bachelor              764586.18%   \n",
       "4  GA49547  Washington      M  High School or Below              536307.65%   \n",
       "\n",
       "     Income  Monthly Premium Auto Number of Open Complaints     Policy Type  \\\n",
       "0      0.00              1,000.00                    1/0/00   Personal Auto   \n",
       "1      0.00                 94.00                    1/0/00   Personal Auto   \n",
       "2 48,767.00                108.00                    1/0/00   Personal Auto   \n",
       "3      0.00                106.00                    1/0/00  Corporate Auto   \n",
       "4 36,357.00                 68.00                    1/0/00   Personal Auto   \n",
       "\n",
       "   Vehicle Class  Total Claim Amount  \n",
       "0  Four-Door Car                2.70  \n",
       "1  Four-Door Car            1,131.46  \n",
       "2   Two-Door Car              566.47  \n",
       "3            SUV              529.88  \n",
       "4  Four-Door Car               17.27  "
      ]
     },
     "execution_count": 6,
     "metadata": {},
     "output_type": "execute_result"
    }
   ],
   "source": [
    "customer_df.head()"
   ]
  },
  {
   "cell_type": "code",
   "execution_count": null,
   "id": "216c0aa1",
   "metadata": {},
   "outputs": [
    {
     "name": "stdout",
     "output_type": "stream",
     "text": [
      "float64\n"
     ]
    }
   ],
   "source": [
    "# Fix any incorrect data types: \"Customer Lifetime Value\"\n",
    "\n",
    "# # Delete % symbol\n",
    "customer_df[\"Customer Lifetime Value\"] = customer_df[\"Customer Lifetime Value\"].replace('%', \"\" , regex=True)\n",
    "customer_df[\"Customer Lifetime Value\"] = customer_df[\"Customer Lifetime Value\"].astype(str).str.strip()  # delete spaces\n",
    "customer_df[\"Customer Lifetime Value\"] = pd.to_numeric(customer_df[\"Customer Lifetime Value\"], errors='coerce')  # convertir string to numeric\n",
    "\n",
    "print(customer_df[\"Customer Lifetime Value\"].dtypes)"
   ]
  },
  {
   "cell_type": "code",
   "execution_count": 8,
   "id": "fcb54f94",
   "metadata": {},
   "outputs": [
    {
     "data": {
      "text/html": [
       "<div>\n",
       "<style scoped>\n",
       "    .dataframe tbody tr th:only-of-type {\n",
       "        vertical-align: middle;\n",
       "    }\n",
       "\n",
       "    .dataframe tbody tr th {\n",
       "        vertical-align: top;\n",
       "    }\n",
       "\n",
       "    .dataframe thead th {\n",
       "        text-align: right;\n",
       "    }\n",
       "</style>\n",
       "<table border=\"1\" class=\"dataframe\">\n",
       "  <thead>\n",
       "    <tr style=\"text-align: right;\">\n",
       "      <th></th>\n",
       "      <th>Customer</th>\n",
       "      <th>ST</th>\n",
       "      <th>GENDER</th>\n",
       "      <th>Education</th>\n",
       "      <th>Customer Lifetime Value</th>\n",
       "      <th>Income</th>\n",
       "      <th>Monthly Premium Auto</th>\n",
       "      <th>Number of Open Complaints</th>\n",
       "      <th>Policy Type</th>\n",
       "      <th>Vehicle Class</th>\n",
       "      <th>Total Claim Amount</th>\n",
       "    </tr>\n",
       "  </thead>\n",
       "  <tbody>\n",
       "    <tr>\n",
       "      <th>0</th>\n",
       "      <td>RB50392</td>\n",
       "      <td>Washington</td>\n",
       "      <td>NaN</td>\n",
       "      <td>Master</td>\n",
       "      <td>NaN</td>\n",
       "      <td>0.00</td>\n",
       "      <td>1,000.00</td>\n",
       "      <td>1/0/00</td>\n",
       "      <td>Personal Auto</td>\n",
       "      <td>Four-Door Car</td>\n",
       "      <td>2.70</td>\n",
       "    </tr>\n",
       "    <tr>\n",
       "      <th>1</th>\n",
       "      <td>QZ44356</td>\n",
       "      <td>Arizona</td>\n",
       "      <td>F</td>\n",
       "      <td>Bachelor</td>\n",
       "      <td>697,953.59</td>\n",
       "      <td>0.00</td>\n",
       "      <td>94.00</td>\n",
       "      <td>1/0/00</td>\n",
       "      <td>Personal Auto</td>\n",
       "      <td>Four-Door Car</td>\n",
       "      <td>1,131.46</td>\n",
       "    </tr>\n",
       "    <tr>\n",
       "      <th>2</th>\n",
       "      <td>AI49188</td>\n",
       "      <td>Nevada</td>\n",
       "      <td>F</td>\n",
       "      <td>Bachelor</td>\n",
       "      <td>1,288,743.17</td>\n",
       "      <td>48,767.00</td>\n",
       "      <td>108.00</td>\n",
       "      <td>1/0/00</td>\n",
       "      <td>Personal Auto</td>\n",
       "      <td>Two-Door Car</td>\n",
       "      <td>566.47</td>\n",
       "    </tr>\n",
       "    <tr>\n",
       "      <th>3</th>\n",
       "      <td>WW63253</td>\n",
       "      <td>California</td>\n",
       "      <td>M</td>\n",
       "      <td>Bachelor</td>\n",
       "      <td>764,586.18</td>\n",
       "      <td>0.00</td>\n",
       "      <td>106.00</td>\n",
       "      <td>1/0/00</td>\n",
       "      <td>Corporate Auto</td>\n",
       "      <td>SUV</td>\n",
       "      <td>529.88</td>\n",
       "    </tr>\n",
       "    <tr>\n",
       "      <th>4</th>\n",
       "      <td>GA49547</td>\n",
       "      <td>Washington</td>\n",
       "      <td>M</td>\n",
       "      <td>High School or Below</td>\n",
       "      <td>536,307.65</td>\n",
       "      <td>36,357.00</td>\n",
       "      <td>68.00</td>\n",
       "      <td>1/0/00</td>\n",
       "      <td>Personal Auto</td>\n",
       "      <td>Four-Door Car</td>\n",
       "      <td>17.27</td>\n",
       "    </tr>\n",
       "  </tbody>\n",
       "</table>\n",
       "</div>"
      ],
      "text/plain": [
       "  Customer          ST GENDER             Education  Customer Lifetime Value  \\\n",
       "0  RB50392  Washington    NaN                Master                      NaN   \n",
       "1  QZ44356     Arizona      F              Bachelor               697,953.59   \n",
       "2  AI49188      Nevada      F              Bachelor             1,288,743.17   \n",
       "3  WW63253  California      M              Bachelor               764,586.18   \n",
       "4  GA49547  Washington      M  High School or Below               536,307.65   \n",
       "\n",
       "     Income  Monthly Premium Auto Number of Open Complaints     Policy Type  \\\n",
       "0      0.00              1,000.00                    1/0/00   Personal Auto   \n",
       "1      0.00                 94.00                    1/0/00   Personal Auto   \n",
       "2 48,767.00                108.00                    1/0/00   Personal Auto   \n",
       "3      0.00                106.00                    1/0/00  Corporate Auto   \n",
       "4 36,357.00                 68.00                    1/0/00   Personal Auto   \n",
       "\n",
       "   Vehicle Class  Total Claim Amount  \n",
       "0  Four-Door Car                2.70  \n",
       "1  Four-Door Car            1,131.46  \n",
       "2   Two-Door Car              566.47  \n",
       "3            SUV              529.88  \n",
       "4  Four-Door Car               17.27  "
      ]
     },
     "execution_count": 8,
     "metadata": {},
     "output_type": "execute_result"
    }
   ],
   "source": [
    "customer_df.head()"
   ]
  },
  {
   "cell_type": "code",
   "execution_count": null,
   "id": "9cf08d2d",
   "metadata": {},
   "outputs": [
    {
     "data": {
      "text/plain": [
       "Customer                      object\n",
       "ST                            object\n",
       "GENDER                        object\n",
       "Education                     object\n",
       "Customer Lifetime Value      float64\n",
       "Income                       float64\n",
       "Monthly Premium Auto         float64\n",
       "Number of Open Complaints     object\n",
       "Policy Type                   object\n",
       "Vehicle Class                 object\n",
       "Total Claim Amount           float64\n",
       "Open Complaint 1             float64\n",
       "Open Complaint 2             float64\n",
       "Open Complaint 3             float64\n",
       "dtype: object"
      ]
     },
     "execution_count": 9,
     "metadata": {},
     "output_type": "execute_result"
    }
   ],
   "source": [
    "# Fix any incorrect data types: \"Number of Open Complaints\"\n",
    "\n",
    "# Split into 3 new columns \n",
    "customer_df[['Open Complaint 1', 'Open Complaint 2', 'Open Complaint 3']] = customer_df['Number of Open Complaints'].str.split('/', expand=True)\n",
    "\n",
    "# Convert the new columns to integers\n",
    "customer_df[['Open Complaint 1', 'Open Complaint 2', 'Open Complaint 3']] = customer_df[['Open Complaint 1', 'Open Complaint 2', 'Open Complaint 3']].apply(pd.to_numeric, errors='coerce')\n",
    "customer_df.dtypes"
   ]
  },
  {
   "cell_type": "code",
   "execution_count": null,
   "id": "7b5b1f8c",
   "metadata": {},
   "outputs": [
    {
     "data": {
      "text/plain": [
       "Customer                     1071\n",
       "ST                              8\n",
       "GENDER                          5\n",
       "Education                       6\n",
       "Customer Lifetime Value      1027\n",
       "Income                        774\n",
       "Monthly Premium Auto          132\n",
       "Number of Open Complaints       6\n",
       "Policy Type                     3\n",
       "Vehicle Class                   6\n",
       "Total Claim Amount            761\n",
       "Open Complaint 1                1\n",
       "Open Complaint 2                6\n",
       "Open Complaint 3                1\n",
       "dtype: int64"
      ]
     },
     "execution_count": 10,
     "metadata": {},
     "output_type": "execute_result"
    }
   ],
   "source": [
    "# Identify the number of unique values for each column and determine which col appear to be categorical.\n",
    "# Describe the unique values of each categorical col and the range of values for numerical col, and give your insights.\n",
    "\n",
    "customer_df.nunique()"
   ]
  },
  {
   "cell_type": "code",
   "execution_count": null,
   "id": "653e5262",
   "metadata": {},
   "outputs": [],
   "source": [
    "# Define variable type.\n",
    "\n",
    "# This line is not necessary: object_cols = [\"Customer\",\"ST\",\"GENDER\",\"Education\",\"Policy Type\",\"Vehicle Class\"]\n",
    "# This line is not necessary: num_cols = [\"Customer Lifetime Value\",\"Income\",\"Monthly Premium Auto\",\"Number of Open Complaints\",\"Total Claim Amount\"]\n",
    "\n",
    "object_cols = customer_df.select_dtypes(include='object')\n",
    "num_cols = customer_df.select_dtypes(include=['int64','float64'])"
   ]
  },
  {
   "cell_type": "code",
   "execution_count": 12,
   "id": "23b460cb",
   "metadata": {},
   "outputs": [
    {
     "data": {
      "text/plain": [
       "(4008, 7)"
      ]
     },
     "execution_count": 12,
     "metadata": {},
     "output_type": "execute_result"
    }
   ],
   "source": [
    "num_cols.shape"
   ]
  },
  {
   "cell_type": "code",
   "execution_count": 13,
   "id": "2d9b6ee1",
   "metadata": {},
   "outputs": [
    {
     "data": {
      "text/plain": [
       "(4008, 7)"
      ]
     },
     "execution_count": 13,
     "metadata": {},
     "output_type": "execute_result"
    }
   ],
   "source": [
    "object_cols.shape"
   ]
  },
  {
   "cell_type": "code",
   "execution_count": null,
   "id": "e9c73ae0",
   "metadata": {},
   "outputs": [
    {
     "name": "stdout",
     "output_type": "stream",
     "text": [
      "Customer unique values: ['RB50392' 'QZ44356' 'AI49188' ... 'CW49887' 'MY31220' nan]\n",
      "ST unique values: ['Washington' 'Arizona' 'Nevada' 'California' 'Oregon' 'Cali' 'AZ' 'WA'\n",
      " nan]\n",
      "GENDER unique values: [nan 'F' 'M' 'Femal' 'Male' 'female']\n",
      "Education unique values: ['Master' 'Bachelor' 'High School or Below' 'College' 'Bachelors' 'Doctor'\n",
      " nan]\n",
      "Number of Open Complaints unique values: ['1/0/00' '1/2/00' '1/1/00' '1/3/00' '1/5/00' '1/4/00' nan]\n",
      "Policy Type unique values: ['Personal Auto' 'Corporate Auto' 'Special Auto' nan]\n",
      "Vehicle Class unique values: ['Four-Door Car' 'Two-Door Car' 'SUV' 'Luxury SUV' 'Sports Car'\n",
      " 'Luxury Car' nan]\n"
     ]
    }
   ],
   "source": [
    "# Check qualitative var categories\n",
    "\n",
    "for col in object_cols:\n",
    "    print(f\"{col} unique values: {customer_df[col].unique()}\")\n",
    "    "
   ]
  },
  {
   "cell_type": "code",
   "execution_count": null,
   "id": "ad425542",
   "metadata": {},
   "outputs": [
    {
     "name": "stdout",
     "output_type": "stream",
     "text": [
      "[nan 'F' 'M' 'Femal' 'Male' 'female']\n",
      "Customer unique values: ['RB50392' 'QZ44356' 'AI49188' ... 'CW49887' 'MY31220' nan]\n",
      "ST unique values: ['Washington' 'Arizona' 'Nevada' 'California' 'Oregon' nan]\n",
      "GENDER unique values: [nan 'F' 'M']\n",
      "Education unique values: ['Master' 'Bachelor' 'High School or Below' 'College' 'Doctor' nan]\n",
      "Number of Open Complaints unique values: ['1/0/00' '1/2/00' '1/1/00' '1/3/00' '1/5/00' '1/4/00' nan]\n",
      "Policy Type unique values: ['Personal Auto' 'Corporate Auto' 'Special Auto' nan]\n",
      "Vehicle Class unique values: ['Four-Door Car' 'Two-Door Car' 'SUV' 'Luxury SUV' 'Sports Car'\n",
      " 'Luxury Car' nan]\n"
     ]
    }
   ],
   "source": [
    "#Replace values of \"ST\"\n",
    "customer_df[\"ST\"] = customer_df[\"ST\"].replace('WA', 'Washington')\n",
    "customer_df[\"ST\"] = customer_df[\"ST\"].replace('AZ', 'Arizona')\n",
    "customer_df[\"ST\"] = customer_df[\"ST\"].replace('Cali', 'California')\n",
    "print(customer_df[\"GENDER\"].unique())\n",
    "\n",
    "# Replace values of \"GENDER\"\n",
    "customer_df[\"GENDER\"] = customer_df[\"GENDER\"].replace(\"Femal\", \"F\")\n",
    "customer_df[\"GENDER\"] = customer_df[\"GENDER\"].replace(\"female\", \"F\")\n",
    "customer_df[\"GENDER\"] = customer_df[\"GENDER\"].replace(\"Male\", \"M\")\n",
    "\n",
    "# Replace values of \"Education\"\n",
    "customer_df[\"Education\"] = customer_df[\"Education\"].replace(\"Bachelors\", \"Bachelor\")\n",
    "\n",
    "# Verify changes\n",
    "for col in object_cols:\n",
    "    print(f\"{col} unique values: {customer_df[col].unique()}\")\n"
   ]
  },
  {
   "cell_type": "code",
   "execution_count": 16,
   "id": "b8643d99",
   "metadata": {},
   "outputs": [
    {
     "data": {
      "text/plain": [
       "Customer                     1071\n",
       "ST                              5\n",
       "GENDER                          2\n",
       "Education                       5\n",
       "Customer Lifetime Value      1027\n",
       "Income                        774\n",
       "Monthly Premium Auto          132\n",
       "Number of Open Complaints       6\n",
       "Policy Type                     3\n",
       "Vehicle Class                   6\n",
       "Total Claim Amount            761\n",
       "Open Complaint 1                1\n",
       "Open Complaint 2                6\n",
       "Open Complaint 3                1\n",
       "dtype: int64"
      ]
     },
     "execution_count": 16,
     "metadata": {},
     "output_type": "execute_result"
    }
   ],
   "source": [
    "customer_df.nunique()"
   ]
  },
  {
   "cell_type": "code",
   "execution_count": null,
   "id": "47a8501c",
   "metadata": {},
   "outputs": [
    {
     "name": "stdout",
     "output_type": "stream",
     "text": [
      "Customer Lifetime Value range: 200435.07 - 5816655.35)\n",
      "Income range: 0.0 - 99960.0)\n",
      "Monthly Premium Auto range: 61.0 - 35354.0)\n",
      "Total Claim Amount range: 0.382107 - 2893.239678)\n",
      "Open Complaint 1 range: 1.0 - 1.0)\n",
      "Open Complaint 2 range: 0.0 - 5.0)\n",
      "Open Complaint 3 range: 0.0 - 0.0)\n"
     ]
    }
   ],
   "source": [
    "# You should also describe the range of values for numerical columns, and give your insights.\n",
    "# Verify ranges\n",
    "for num in num_cols:\n",
    "    print (f\"{num} range: {customer_df[num].min()} - {customer_df[num].max()})\")"
   ]
  },
  {
   "cell_type": "code",
   "execution_count": null,
   "id": "e4db1e50",
   "metadata": {},
   "outputs": [
    {
     "data": {
      "text/html": [
       "<div>\n",
       "<style scoped>\n",
       "    .dataframe tbody tr th:only-of-type {\n",
       "        vertical-align: middle;\n",
       "    }\n",
       "\n",
       "    .dataframe tbody tr th {\n",
       "        vertical-align: top;\n",
       "    }\n",
       "\n",
       "    .dataframe thead th {\n",
       "        text-align: right;\n",
       "    }\n",
       "</style>\n",
       "<table border=\"1\" class=\"dataframe\">\n",
       "  <thead>\n",
       "    <tr style=\"text-align: right;\">\n",
       "      <th></th>\n",
       "      <th>Customer Lifetime Value</th>\n",
       "      <th>Income</th>\n",
       "      <th>Monthly Premium Auto</th>\n",
       "      <th>Total Claim Amount</th>\n",
       "      <th>Open Complaint 1</th>\n",
       "      <th>Open Complaint 2</th>\n",
       "      <th>Open Complaint 3</th>\n",
       "    </tr>\n",
       "  </thead>\n",
       "  <tbody>\n",
       "    <tr>\n",
       "      <th>count</th>\n",
       "      <td>1,068.00</td>\n",
       "      <td>1,071.00</td>\n",
       "      <td>1,071.00</td>\n",
       "      <td>1,071.00</td>\n",
       "      <td>1,071.00</td>\n",
       "      <td>1,071.00</td>\n",
       "      <td>1,071.00</td>\n",
       "    </tr>\n",
       "    <tr>\n",
       "      <th>mean</th>\n",
       "      <td>793,690.26</td>\n",
       "      <td>39,295.70</td>\n",
       "      <td>193.23</td>\n",
       "      <td>404.99</td>\n",
       "      <td>1.00</td>\n",
       "      <td>0.39</td>\n",
       "      <td>0.00</td>\n",
       "    </tr>\n",
       "    <tr>\n",
       "      <th>std</th>\n",
       "      <td>643,478.41</td>\n",
       "      <td>30,469.43</td>\n",
       "      <td>1,601.19</td>\n",
       "      <td>293.03</td>\n",
       "      <td>0.00</td>\n",
       "      <td>0.88</td>\n",
       "      <td>0.00</td>\n",
       "    </tr>\n",
       "    <tr>\n",
       "      <th>min</th>\n",
       "      <td>200,435.07</td>\n",
       "      <td>0.00</td>\n",
       "      <td>61.00</td>\n",
       "      <td>0.38</td>\n",
       "      <td>1.00</td>\n",
       "      <td>0.00</td>\n",
       "      <td>0.00</td>\n",
       "    </tr>\n",
       "    <tr>\n",
       "      <th>25%</th>\n",
       "      <td>403,407.99</td>\n",
       "      <td>14,072.00</td>\n",
       "      <td>68.00</td>\n",
       "      <td>202.16</td>\n",
       "      <td>1.00</td>\n",
       "      <td>0.00</td>\n",
       "      <td>0.00</td>\n",
       "    </tr>\n",
       "    <tr>\n",
       "      <th>50%</th>\n",
       "      <td>588,174.23</td>\n",
       "      <td>36,234.00</td>\n",
       "      <td>83.00</td>\n",
       "      <td>354.73</td>\n",
       "      <td>1.00</td>\n",
       "      <td>0.00</td>\n",
       "      <td>0.00</td>\n",
       "    </tr>\n",
       "    <tr>\n",
       "      <th>75%</th>\n",
       "      <td>896,287.20</td>\n",
       "      <td>64,631.00</td>\n",
       "      <td>109.50</td>\n",
       "      <td>532.80</td>\n",
       "      <td>1.00</td>\n",
       "      <td>0.00</td>\n",
       "      <td>0.00</td>\n",
       "    </tr>\n",
       "    <tr>\n",
       "      <th>max</th>\n",
       "      <td>5,816,655.35</td>\n",
       "      <td>99,960.00</td>\n",
       "      <td>35,354.00</td>\n",
       "      <td>2,893.24</td>\n",
       "      <td>1.00</td>\n",
       "      <td>5.00</td>\n",
       "      <td>0.00</td>\n",
       "    </tr>\n",
       "  </tbody>\n",
       "</table>\n",
       "</div>"
      ],
      "text/plain": [
       "       Customer Lifetime Value    Income  Monthly Premium Auto  \\\n",
       "count                 1,068.00  1,071.00              1,071.00   \n",
       "mean                793,690.26 39,295.70                193.23   \n",
       "std                 643,478.41 30,469.43              1,601.19   \n",
       "min                 200,435.07      0.00                 61.00   \n",
       "25%                 403,407.99 14,072.00                 68.00   \n",
       "50%                 588,174.23 36,234.00                 83.00   \n",
       "75%                 896,287.20 64,631.00                109.50   \n",
       "max               5,816,655.35 99,960.00             35,354.00   \n",
       "\n",
       "       Total Claim Amount  Open Complaint 1  Open Complaint 2  \\\n",
       "count            1,071.00          1,071.00          1,071.00   \n",
       "mean               404.99              1.00              0.39   \n",
       "std                293.03              0.00              0.88   \n",
       "min                  0.38              1.00              0.00   \n",
       "25%                202.16              1.00              0.00   \n",
       "50%                354.73              1.00              0.00   \n",
       "75%                532.80              1.00              0.00   \n",
       "max              2,893.24              1.00              5.00   \n",
       "\n",
       "       Open Complaint 3  \n",
       "count          1,071.00  \n",
       "mean               0.00  \n",
       "std                0.00  \n",
       "min                0.00  \n",
       "25%                0.00  \n",
       "50%                0.00  \n",
       "75%                0.00  \n",
       "max                0.00  "
      ]
     },
     "execution_count": 88,
     "metadata": {},
     "output_type": "execute_result"
    }
   ],
   "source": [
    "# Compute summary statistics such as mean, median, mode, standard deviation, and quartiles\n",
    "# to understand the central tendency and distribution of the data for numerical col.\n",
    "num_cols.describe()"
   ]
  },
  {
   "cell_type": "code",
   "execution_count": null,
   "id": "06bb614b",
   "metadata": {},
   "outputs": [
    {
     "name": "stdout",
     "output_type": "stream",
     "text": [
      "   Customer Lifetime Value  Income  Monthly Premium Auto  Total Claim Amount  \\\n",
      "0               251,459.20    0.00                 65.00              321.60   \n",
      "1               445,811.34     NaN                   NaN                 NaN   \n",
      "\n",
      "   Open Complaint 1  Open Complaint 2  Open Complaint 3  \n",
      "0              1.00              0.00              0.00  \n",
      "1               NaN               NaN               NaN  \n"
     ]
    }
   ],
   "source": [
    "# Compute summary statistics: mode\n",
    "modes = num_cols.mode(dropna=True)\n",
    "print(modes)"
   ]
  },
  {
   "cell_type": "code",
   "execution_count": null,
   "id": "ffbd27d9",
   "metadata": {},
   "outputs": [
    {
     "name": "stdout",
     "output_type": "stream",
     "text": [
      "coefficient of variation of Customer Lifetime Value: 0.8107424813420913\n",
      "coefficient of variation of Income: 0.7753883025170921\n",
      "coefficient of variation of Monthly Premium Auto: 8.2862611244365\n",
      "coefficient of variation of Total Claim Amount: 0.7235474854089655\n"
     ]
    }
   ],
   "source": [
    "# Evaluate variability of the data using the coefficient of variation for numerical col.\n",
    "\n",
    "cv_Customer_Lifetime_Value = customer_df[\"Customer Lifetime Value\"].std(skipna=True) / customer_df[\"Customer Lifetime Value\"].mean(skipna=True)\n",
    "print(f\"coefficient of variation of Customer Lifetime Value: {cv_Customer_Lifetime_Value}\")\n",
    "\n",
    "cv_income = customer_df[\"Income\"].std(skipna=True) / customer_df[\"Income\"].mean(skipna=True)\n",
    "print(f\"coefficient of variation of Income: {cv_income}\")\n",
    "\n",
    "cv_montly_premium_auto = customer_df[\"Monthly Premium Auto\"].std(skipna=True) / customer_df[\"Monthly Premium Auto\"].mean(skipna=True)\n",
    "print(f\"coefficient of variation of Monthly Premium Auto: {cv_montly_premium_auto}\")\n",
    "\n",
    "cv_Total_Claim_Amount = customer_df[\"Total Claim Amount\"].std(skipna=True) / customer_df[\"Total Claim Amount\"].mean(skipna=True)\n",
    "print(f\"coefficient of variation of Total Claim Amount: {cv_Total_Claim_Amount}\")"
   ]
  },
  {
   "cell_type": "code",
   "execution_count": null,
   "id": "def4f75a",
   "metadata": {},
   "outputs": [
    {
     "name": "stdout",
     "output_type": "stream",
     "text": [
      "Interquartile range of Monthly Premium Auto: 41.5\n",
      "     Customer  Monthly Premium Auto\n",
      "0     RB50392              1,000.00\n",
      "31    UL64533                237.00\n",
      "44    YD87931             35,354.00\n",
      "45    HG65722                172.00\n",
      "79    OM82309                186.00\n",
      "114   SG20925              6,464.00\n",
      "123   SH36774                192.00\n",
      "181   KC11055                217.00\n",
      "196   AZ62651                255.00\n",
      "207   SD64087                190.00\n",
      "248   FO35655                245.00\n",
      "274   AY40674              1,005.00\n",
      "292   EU27538                225.00\n",
      "354   CI38330              6,464.00\n",
      "404   DJ91267                244.00\n",
      "409   DP84567                183.00\n",
      "410   VV77534                176.00\n",
      "418   EM29359                183.00\n",
      "425   LC25393                230.00\n",
      "429   DW19309                177.00\n",
      "434   IP69763                181.00\n",
      "435   TE35785                196.00\n",
      "496   JC11405                276.00\n",
      "510   EX28656                253.00\n",
      "519   FJ54907                180.00\n",
      "522   ZZ97035                203.00\n",
      "541   AW77988                192.00\n",
      "581   PR53785                198.00\n",
      "609   YE68736                193.00\n",
      "633   UY18770                271.00\n",
      "741   AC40767              6,464.00\n",
      "747   JT11876             10,202.00\n",
      "755   QW47320                271.00\n",
      "757   ON59472                206.00\n",
      "760   EA25683                196.00\n",
      "775   EK91340                193.00\n",
      "810   KW56110                182.00\n",
      "817   QW33258                189.00\n",
      "832   YX89016                295.00\n",
      "840   PN98247                210.00\n",
      "856   QZ77637             35,353.00\n",
      "869   ER19995              6,464.00\n",
      "871   ND41876                182.00\n",
      "888   BZ65376                239.00\n",
      "901   TV82603                188.00\n",
      "926   NT59303                256.00\n",
      "944   ZJ73220                188.00\n",
      "970   RS24501                173.00\n",
      "978   XX88577                196.00\n",
      "1008  AM97901                192.00\n",
      "1011  CH85057                285.00\n",
      "1046  RG30482                197.00\n",
      "1058  UX92071                199.00\n"
     ]
    }
   ],
   "source": [
    "# Evaluate variability using the interquartile range (IQR) of \"Monthly Premium Auto\".\n",
    "# The IQR is used because the maximum value is significantly higher than both the mean and median,\n",
    "# suggesting the presence of potential outliers.\n",
    " \n",
    "q1 = customer_df[\"Monthly Premium Auto\"].quantile(0.25)\n",
    "q3 = customer_df[\"Monthly Premium Auto\"].quantile(0.75)\n",
    "iqr_Monthly_Premium_Auto = q3 - q1\n",
    "lower_bound = q1 - 1.5 * iqr_Monthly_Premium_Auto\n",
    "upper_bound = q3 + 1.5 * iqr_Monthly_Premium_Auto\n",
    "\n",
    "print(f\"Interquartile range of Monthly Premium Auto: {iqr_Monthly_Premium_Auto}\")\n",
    "\n",
    "# Outliers of Monthly Premium Auto\n",
    "outliers_Monthly_Premium_Auto = customer_df[(customer_df[\"Monthly Premium Auto\"] < lower_bound) | (customer_df[\"Monthly Premium Auto\"] > upper_bound)]\n",
    "\n",
    "print(outliers_Monthly_Premium_Auto[[\"Customer\", \"Monthly Premium Auto\"]])\n",
    "\n"
   ]
  },
  {
   "cell_type": "code",
   "execution_count": 37,
   "id": "06e3bfed",
   "metadata": {},
   "outputs": [
    {
     "data": {
      "text/plain": [
       "<Axes: xlabel='Monthly Premium Auto', ylabel='Count'>"
      ]
     },
     "execution_count": 37,
     "metadata": {},
     "output_type": "execute_result"
    },
    {
     "data": {
      "image/png": "[encoded data removed]",
      "text/plain": [
       "<Figure size 640x480 with 1 Axes>"
      ]
     },
     "metadata": {},
     "output_type": "display_data"
    }
   ],
   "source": [
    "sns.histplot(data = customer_df, x = \"Monthly Premium Auto\")\n",
    "\n"
   ]
  },
  {
   "cell_type": "code",
   "execution_count": 40,
   "id": "98aa3a68",
   "metadata": {},
   "outputs": [
    {
     "data": {
      "text/plain": [
       "<Axes: ylabel='Monthly Premium Auto'>"
      ]
     },
     "execution_count": 40,
     "metadata": {},
     "output_type": "execute_result"
    },
    {
     "data": {
      "image/png": "[encoded data removed]",
      "text/plain": [
       "<Figure size 640x480 with 1 Axes>"
      ]
     },
     "metadata": {},
     "output_type": "display_data"
    }
   ],
   "source": [
    "sns.boxplot(y = \"Monthly Premium Auto\", data = customer_df, color = \"lightblue\")"
   ]
  },
  {
   "cell_type": "markdown",
   "id": "1e8c905b",
   "metadata": {},
   "source": [
    "### You should also provide your conclusions based on these summary statistics.\n",
    "\n",
    "- Customer Lifetime Value: The average net profit that the insurance company expects to generate from a customer is $793,690.26; there is high variability in this variable, being the coefficient of variation close to 1 (0.88); the distribution if right-skewed as mean is higher than the median (percentile 50%).\n",
    "\n",
    "- Income: The average of income is $39,295.70; there is relatively high variability in this variable, being the coefficient of variation close to 1 (0.78); the distribution is slightly right-skewed as mean is higher than the median.\n",
    "\n",
    "- Monthly Premium Auto: The average of Monthly Premium Auto is $193.23. Data variability is extremely high, as indicated by a coefficient of variation of 8.3, meaning that the standard deviation is over eight times the mean. This suggest the presence of outliers, values that are far above the central tendency, as reflected by the maxim value and by the two plots above.\n",
    "\n",
    "- Total Claim Amount: The average Total Claim Amount is $404.99. There is high variability inthe data, as indicated by a coefficient of variation of 0.72.\n",
    "\n",
    "- Open Complaint 1: Costumers have exactly one accident report (open complaint) in the first year; there is no variation in the data (std = 0).\n",
    "\n",
    "- Open Complaint 2: On average, customers have fewer than one open complaint; although some customers have up to five complaints, this variability is reflected in the sdt (0.88).\n",
    "\n",
    "- Open Complaint 3: In the third year, costumers have no open complaints."
   ]
  },
  {
   "cell_type": "code",
   "execution_count": 20,
   "id": "f740e1d4",
   "metadata": {},
   "outputs": [
    {
     "data": {
      "text/html": [
       "<div>\n",
       "<style scoped>\n",
       "    .dataframe tbody tr th:only-of-type {\n",
       "        vertical-align: middle;\n",
       "    }\n",
       "\n",
       "    .dataframe tbody tr th {\n",
       "        vertical-align: top;\n",
       "    }\n",
       "\n",
       "    .dataframe thead th {\n",
       "        text-align: right;\n",
       "    }\n",
       "</style>\n",
       "<table border=\"1\" class=\"dataframe\">\n",
       "  <thead>\n",
       "    <tr style=\"text-align: right;\">\n",
       "      <th></th>\n",
       "      <th>Customer</th>\n",
       "      <th>ST</th>\n",
       "      <th>GENDER</th>\n",
       "      <th>Education</th>\n",
       "      <th>Number of Open Complaints</th>\n",
       "      <th>Policy Type</th>\n",
       "      <th>Vehicle Class</th>\n",
       "    </tr>\n",
       "  </thead>\n",
       "  <tbody>\n",
       "    <tr>\n",
       "      <th>count</th>\n",
       "      <td>1071</td>\n",
       "      <td>1071</td>\n",
       "      <td>954</td>\n",
       "      <td>1071</td>\n",
       "      <td>1071</td>\n",
       "      <td>1071</td>\n",
       "      <td>1071</td>\n",
       "    </tr>\n",
       "    <tr>\n",
       "      <th>unique</th>\n",
       "      <td>1071</td>\n",
       "      <td>8</td>\n",
       "      <td>5</td>\n",
       "      <td>6</td>\n",
       "      <td>6</td>\n",
       "      <td>3</td>\n",
       "      <td>6</td>\n",
       "    </tr>\n",
       "    <tr>\n",
       "      <th>top</th>\n",
       "      <td>RB50392</td>\n",
       "      <td>Oregon</td>\n",
       "      <td>F</td>\n",
       "      <td>Bachelor</td>\n",
       "      <td>1/0/00</td>\n",
       "      <td>Personal Auto</td>\n",
       "      <td>Four-Door Car</td>\n",
       "    </tr>\n",
       "    <tr>\n",
       "      <th>freq</th>\n",
       "      <td>1</td>\n",
       "      <td>320</td>\n",
       "      <td>457</td>\n",
       "      <td>324</td>\n",
       "      <td>830</td>\n",
       "      <td>780</td>\n",
       "      <td>576</td>\n",
       "    </tr>\n",
       "  </tbody>\n",
       "</table>\n",
       "</div>"
      ],
      "text/plain": [
       "       Customer      ST GENDER Education Number of Open Complaints  \\\n",
       "count      1071    1071    954      1071                      1071   \n",
       "unique     1071       8      5         6                         6   \n",
       "top     RB50392  Oregon      F  Bachelor                    1/0/00   \n",
       "freq          1     320    457       324                       830   \n",
       "\n",
       "          Policy Type  Vehicle Class  \n",
       "count            1071           1071  \n",
       "unique              3              6  \n",
       "top     Personal Auto  Four-Door Car  \n",
       "freq              780            576  "
      ]
     },
     "execution_count": 20,
     "metadata": {},
     "output_type": "execute_result"
    }
   ],
   "source": [
    "# Compute summary statistics for categorical columns and providing your conclusions based on these statistics\n",
    "object_cols.describe()"
   ]
  },
  {
   "cell_type": "markdown",
   "id": "4a703890-63db-4944-b7ab-95a4f8185120",
   "metadata": {},
   "source": [
    "## Challenge 2: analyzing the data"
   ]
  },
  {
   "cell_type": "markdown",
   "id": "0776a403-c56a-452f-ac33-5fd4fdb06fc7",
   "metadata": {},
   "source": [
    "### Exercise 1"
   ]
  },
  {
   "cell_type": "markdown",
   "id": "eedbc484-da4d-4f9c-9343-e1d44311a87e",
   "metadata": {},
   "source": [
    "The marketing team wants to know the top 5 less common customer locations. Create a pandas Series object that contains the customer locations and their frequencies, and then retrieve the top 5 less common locations in ascending order."
   ]
  },
  {
   "cell_type": "code",
   "execution_count": null,
   "id": "2dca5073-4520-4f42-9390-4b92733284ed",
   "metadata": {},
   "outputs": [
    {
     "name": "stdout",
     "output_type": "stream",
     "text": [
      "ST\n",
      "California    331\n",
      "Oregon        320\n",
      "Arizona       211\n",
      "Washington    111\n",
      "Nevada         98\n",
      "Name: count, dtype: int64\n"
     ]
    }
   ],
   "source": [
    "# Create a pandas Series object that contains the customer locations and their frequencies:\n",
    "# there are five customer locations\n",
    "\n",
    "customer_locations_count = customer_df[\"ST\"].value_counts()\n",
    "print(customer_locations_count)"
   ]
  },
  {
   "cell_type": "code",
   "execution_count": null,
   "id": "4271b40d",
   "metadata": {},
   "outputs": [
    {
     "name": "stdout",
     "output_type": "stream",
     "text": [
      "ST\n",
      "Nevada         98\n",
      "Washington    111\n",
      "Arizona       211\n",
      "Oregon        320\n",
      "California    331\n",
      "Name: count, dtype: int64\n"
     ]
    }
   ],
   "source": [
    "# Retrieve the top 5 less common locations in ascending order\n",
    "# (my_note: it should not be necessary to select the 5 locations with the lowest frequencies because locations are five in total).\n",
    "\n",
    "five_less_commonn_locations = customer_locations_count.nsmallest(5).sort_values(ascending = True)\n",
    "print(five_less_commonn_locations)"
   ]
  },
  {
   "cell_type": "code",
   "execution_count": null,
   "id": "b9627b6c",
   "metadata": {},
   "outputs": [
    {
     "name": "stdout",
     "output_type": "stream",
     "text": [
      "ST\n",
      "Nevada         98\n",
      "Washington    111\n",
      "Arizona       211\n",
      "Oregon        320\n",
      "California    331\n",
      "Name: count, dtype: int64\n"
     ]
    }
   ],
   "source": [
    "# Retrieve the top 5 less common locations in ascending order\n",
    "\n",
    "five_less_commonn_locations = customer_locations_count.sort_values(ascending = True)\n",
    "print(five_less_commonn_locations)"
   ]
  },
  {
   "cell_type": "markdown",
   "id": "0ce80f43-4afa-43c7-a78a-c917444da4e0",
   "metadata": {},
   "source": [
    "### Exercise 2\n",
    "\n",
    "The sales team wants to know the total number of policies sold for each type of policy. Create a pandas Series object that contains the policy types and their total number of policies sold, and then retrieve the policy type with the highest number of policies sold."
   ]
  },
  {
   "cell_type": "markdown",
   "id": "a9f13997-1555-4f98-aca6-970fda1d2c3f",
   "metadata": {},
   "source": [
    "*Hint:*\n",
    "- *Using value_counts() method simplifies this analysis.*\n",
    "- *Futhermore, there is a method that returns the index of the maximum value in a column or row.*\n"
   ]
  },
  {
   "cell_type": "code",
   "execution_count": null,
   "id": "bcfad6c1-9af2-4b0b-9aa9-0dc5c17473c0",
   "metadata": {},
   "outputs": [
    {
     "name": "stdout",
     "output_type": "stream",
     "text": [
      "Policy Type\n",
      "Personal Auto     780\n",
      "Corporate Auto    234\n",
      "Special Auto       57\n",
      "Name: count, dtype: int64\n"
     ]
    }
   ],
   "source": [
    "# Panda series representing the absolut frequencies of each policy type sold:\n",
    "# frequency table\n",
    "\n",
    "policy_type_count = customer_df[\"Policy Type\"].value_counts()\n",
    "print(policy_type_count)"
   ]
  },
  {
   "cell_type": "code",
   "execution_count": null,
   "id": "3976a3be",
   "metadata": {},
   "outputs": [
    {
     "name": "stdout",
     "output_type": "stream",
     "text": [
      "Personal Auto\n"
     ]
    }
   ],
   "source": [
    "# Retrieve the policy type with the highest number of policies sold\n",
    "\n",
    "highest_sold_policy_type = policy_type_count.idxmax()  # to retrieve the label=index corresponding to the max absolute freq.\n",
    "print(highest_sold_policy_type)"
   ]
  },
  {
   "cell_type": "markdown",
   "id": "0b863fd3-bf91-4d5d-86eb-be29ed9f5b70",
   "metadata": {},
   "source": [
    "### Exercise 3\n",
    "\n",
    "The sales team wants to know if customers with Personal Auto have a lower income than those with Corporate Auto. How does the average income compare between the two policy types?"
   ]
  },
  {
   "cell_type": "markdown",
   "id": "b1386d75-2810-4aa1-93e0-9485aa12d552",
   "metadata": {},
   "source": [
    "- Use *loc* to create two dataframes: one containing only Personal Auto policies and one containing only Corporate Auto policies.\n",
    "- Calculate the average income for each policy.\n",
    "- Print the results."
   ]
  },
  {
   "cell_type": "code",
   "execution_count": null,
   "id": "f2ee44d8",
   "metadata": {},
   "outputs": [
    {
     "name": "stdout",
     "output_type": "stream",
     "text": [
      "        Policy Type    Income\n",
      "0     Personal Auto      0.00\n",
      "1     Personal Auto      0.00\n",
      "2     Personal Auto 48,767.00\n",
      "4     Personal Auto 36,357.00\n",
      "5     Personal Auto 62,902.00\n",
      "...             ...       ...\n",
      "1065  Personal Auto 69,417.00\n",
      "1066  Personal Auto 38,644.00\n",
      "1067  Personal Auto 63,209.00\n",
      "1068  Personal Auto 16,061.00\n",
      "1070  Personal Auto 54,230.00\n",
      "\n",
      "[780 rows x 2 columns]\n"
     ]
    }
   ],
   "source": [
    "# Create a DataFrame containing only Personal Auto policies:\n",
    "# filter rows equals to \"Personal Auto\" in the col \"Policy Type\" of the customer_df DataFrame.\n",
    "personal_auto_df = customer_df.loc[\n",
    "    customer_df[\"Policy Type\"] == \"Personal Auto\",\n",
    "    [\"Policy Type\", \"Income\"]\n",
    "]\n",
    "\n",
    "print(personal_auto_df)"
   ]
  },
  {
   "cell_type": "code",
   "execution_count": 79,
   "id": "5da360f3",
   "metadata": {},
   "outputs": [
    {
     "name": "stdout",
     "output_type": "stream",
     "text": [
      "         Policy Type    Income\n",
      "3     Corporate Auto      0.00\n",
      "6     Corporate Auto 55,350.00\n",
      "7     Corporate Auto      0.00\n",
      "8     Corporate Auto 14,072.00\n",
      "12    Corporate Auto 77,026.00\n",
      "...              ...       ...\n",
      "1045  Corporate Auto 94,389.00\n",
      "1050  Corporate Auto 51,978.00\n",
      "1052  Corporate Auto 86,721.00\n",
      "1056  Corporate Auto 89,451.00\n",
      "1059  Corporate Auto 54,193.00\n",
      "\n",
      "[234 rows x 2 columns]\n"
     ]
    }
   ],
   "source": [
    "# Create a DataFrame containing only Corporate Auto policies,\n",
    "# filter rows equals to \"Corporate Auto\" in the col \"Policy Type\" of the customer_df DataFrame.\n",
    "corporate_auto_df = customer_df.loc[\n",
    "    customer_df[\"Policy Type\"] == \"Corporate Auto\",\n",
    "    [\"Policy Type\", \"Income\"]\n",
    "]\n",
    "\n",
    "print(corporate_auto_df)"
   ]
  },
  {
   "cell_type": "code",
   "execution_count": 84,
   "id": "a085c7c8",
   "metadata": {},
   "outputs": [
    {
     "name": "stdout",
     "output_type": "stream",
     "text": [
      "Income of customers with personal auto is: 38180.69871794872; income of those with corporate auto is: 41390.31196581197\n"
     ]
    }
   ],
   "source": [
    "# Calculate the average income for each policy.\n",
    "personal_auto_income_mean = personal_auto_df[\"Income\"].mean()\n",
    "corporate_auto_income_mean = corporate_auto_df[\"Income\"].mean()\n",
    "print(f\"Income of customers with personal auto is: {personal_auto_income_mean}; income of those with corporate auto is: {corporate_auto_income_mean}\")"
   ]
  },
  {
   "cell_type": "code",
   "execution_count": 86,
   "id": "0c0563cf-6f8b-463d-a321-651a972f82e5",
   "metadata": {},
   "outputs": [
    {
     "name": "stdout",
     "output_type": "stream",
     "text": [
      "The average income of customers with Corporate Auto Policy Type is 8.406376403882868 higher than income of those with Personal Auto Policy Type\n"
     ]
    }
   ],
   "source": [
    "# Customers with \"Personal Auto\" have a lower income than those with \"Corporate Auto\".\n",
    "# How does the average income compare between the two policy types? \n",
    "percent_higher = ((corporate_auto_income_mean - personal_auto_income_mean) / personal_auto_income_mean)*100\n",
    "print(f\"The average income of customers with Corporate Auto Policy Type is {percent_higher} higher than income of those with Personal Auto Policy Type\")"
   ]
  },
  {
   "cell_type": "markdown",
   "id": "80b16c27-f4a5-4727-a229-1f88671cf4e2",
   "metadata": {},
   "source": [
    "### Bonus: Exercise 4\n"
   ]
  },
  {
   "cell_type": "markdown",
   "id": "ac584986-299b-475f-ac2e-928c16c3f512",
   "metadata": {},
   "source": [
    "Your goal is to identify customers with a high policy claim amount.\n",
    "\n",
    "Instructions:\n",
    "\n",
    "- Review again the statistics for total claim amount to gain an understanding of the data.\n",
    "- To identify potential areas for improving customer retention and profitability, we want to focus on customers with a high policy claim amount. Consider customers with a high policy claim amount to be those in the top 25% of the total claim amount. Create a pandas DataFrame object that contains information about customers with a policy claim amount greater than the 75th percentile.\n",
    "- Use DataFrame methods to calculate summary statistics about the high policy claim amount data. "
   ]
  },
  {
   "cell_type": "markdown",
   "id": "4e3af5f1-6023-4b05-9c01-d05392daa650",
   "metadata": {},
   "source": [
    "*Note: When analyzing data, we often want to focus on certain groups of values to gain insights. Percentiles are a useful tool to help us define these groups. A percentile is a measure that tells us what percentage of values in a dataset are below a certain value. For example, the 75th percentile represents the value below which 75% of the data falls. Similarly, the 25th percentile represents the value below which 25% of the data falls. When we talk about the top 25%, we are referring to the values that fall above the 75th percentile, which represent the top quarter of the data. On the other hand, when we talk about the bottom 25%, we are referring to the values that fall below the 25th percentile, which represent the bottom quarter of the data. By focusing on these groups, we can identify patterns and trends that may be useful for making decisions and taking action.*\n",
    "\n",
    "*Hint: look for a method that gives you the percentile or quantile 0.75 and 0.25 for a Pandas Series.*"
   ]
  },
  {
   "cell_type": "markdown",
   "id": "2d234634-50bd-41e0-88f7-d5ba684455d1",
   "metadata": {},
   "source": [
    "*Hint 2: check `Boolean selection according to the values of a single column` in https://towardsdatascience.com/filtering-data-frames-in-pandas-b570b1f834b9*"
   ]
  },
  {
   "cell_type": "code",
   "execution_count": null,
   "id": "b731bca6-a760-4860-a27b-a33efa712ce0",
   "metadata": {},
   "outputs": [
    {
     "name": "stdout",
     "output_type": "stream",
     "text": [
      "count   1,071.00\n",
      "mean      404.99\n",
      "std       293.03\n",
      "min         0.38\n",
      "25%       202.16\n",
      "50%       354.73\n",
      "75%       532.80\n",
      "max     2,893.24\n",
      "Name: Total Claim Amount, dtype: float64\n"
     ]
    }
   ],
   "source": [
    "# Total Claim Amount - the sum of all claims made by the customer.\n",
    "# It represents the total monetary value of all approved claims for incidents such as accidents, theft, vandalism, or other covered events.\n",
    "\n",
    "# Review again the statistics for total claim amount to gain an understanding of the data.\n",
    "descriptives_total_claim_amount = customer_df[\"Total Claim Amount\"].describe()\n",
    "print(descriptives_total_claim_amount)\n"
   ]
  },
  {
   "cell_type": "code",
   "execution_count": null,
   "id": "50c3b850",
   "metadata": {},
   "outputs": [
    {
     "name": "stdout",
     "output_type": "stream",
     "text": [
      "     Customer          ST GENDER Education  Customer Lifetime Value    Income  \\\n",
      "1     QZ44356     Arizona      F  Bachelor               697,953.59      0.00   \n",
      "2     AI49188      Nevada      F  Bachelor             1,288,743.17 48,767.00   \n",
      "17    OE15005  California    NaN   College               394,524.16 28,855.00   \n",
      "23    TZ98966      Nevada    NaN  Bachelor               245,019.10      0.00   \n",
      "26    US89481  California    NaN  Bachelor               394,637.21      0.00   \n",
      "...       ...         ...    ...       ...                      ...       ...   \n",
      "1059  YG44474      Oregon      M   College             1,401,472.13 54,193.00   \n",
      "1061  RY92647  California      F  Bachelor             1,050,677.17      0.00   \n",
      "1068  GS98873     Arizona      F  Bachelor               323,912.47 16,061.00   \n",
      "1069  CW49887  California      F    Master               462,680.11 79,487.00   \n",
      "1070  MY31220  California      F   College               899,704.02 54,230.00   \n",
      "\n",
      "      Monthly Premium Auto Number of Open Complaints     Policy Type  \\\n",
      "1                    94.00                    1/0/00   Personal Auto   \n",
      "2                   108.00                    1/0/00   Personal Auto   \n",
      "17                  101.00                    1/0/00   Personal Auto   \n",
      "23                   73.00                    1/3/00  Corporate Auto   \n",
      "26                  111.00                    1/0/00   Personal Auto   \n",
      "...                    ...                       ...             ...   \n",
      "1059                117.00                    1/0/00  Corporate Auto   \n",
      "1061                 92.00                    1/0/00   Personal Auto   \n",
      "1068                 88.00                    1/0/00   Personal Auto   \n",
      "1069                114.00                    1/0/00    Special Auto   \n",
      "1070                112.00                    1/0/00   Personal Auto   \n",
      "\n",
      "      Vehicle Class  Total Claim Amount  Open Complaint 1  Open Complaint 2  \\\n",
      "1     Four-Door Car            1,131.46              1.00              0.00   \n",
      "2      Two-Door Car              566.47              1.00              0.00   \n",
      "17              SUV              647.44              1.00              0.00   \n",
      "23    Four-Door Car              554.38              1.00              3.00   \n",
      "26    Four-Door Car              799.20              1.00              0.00   \n",
      "...             ...                 ...               ...               ...   \n",
      "1059            SUV              720.75              1.00              0.00   \n",
      "1061  Four-Door Car              546.52              1.00              0.00   \n",
      "1068  Four-Door Car              633.60              1.00              0.00   \n",
      "1069            SUV              547.20              1.00              0.00   \n",
      "1070   Two-Door Car              537.60              1.00              0.00   \n",
      "\n",
      "      Open Complaint 3  \n",
      "1                 0.00  \n",
      "2                 0.00  \n",
      "17                0.00  \n",
      "23                0.00  \n",
      "26                0.00  \n",
      "...                ...  \n",
      "1059              0.00  \n",
      "1061              0.00  \n",
      "1068              0.00  \n",
      "1069              0.00  \n",
      "1070              0.00  \n",
      "\n",
      "[264 rows x 14 columns]\n"
     ]
    }
   ],
   "source": [
    "# Create a pandas DataFrame object that contains information about customers with a policy claim amount greater than the 75th percentile (Q3).\n",
    "q3 = customer_df[\"Total Claim Amount\"].quantile(0.75)\n",
    "policy_claim_amount_high = customer_df[(customer_df[\"Total Claim Amount\"] > q3)]\n",
    "print(policy_claim_amount_high)"
   ]
  },
  {
   "cell_type": "code",
   "execution_count": 108,
   "id": "597dfa4f",
   "metadata": {},
   "outputs": [
    {
     "name": "stdout",
     "output_type": "stream",
     "text": [
      "[1131.464935, 566.472247, 647.442031, 554.376763, 799.2, 615.927769, 561.6, 648.0, 882.871945, 579.165954, 593.830288, 831.625979, 704.768111, 863.327324, 676.391482, 537.6, 982.399613, 787.993313, 679.827592, 863.3947, 936.0, 561.6, 784.8, 638.4, 921.6, 542.4, 828.662719, 975.107098, 721.242206, 1087.995426, 604.8, 701.708239, 679.368378, 566.4, 554.4, 542.319401, 787.993313, 710.433775, 552.0, 1122.658899, 792.0, 754.358929, 702.990032, 1836.0, 844.481918, 722.486994, 590.4, 1124.427734, 669.682001, 1284.093173, 912.0, 556.8, 537.6, 831.752839, 729.6, 639.464548, 566.935022, 2345.413441, 773.470977, 638.4, 741.6, 813.6, 795.864079, 614.4, 641.388616, 722.024742, 537.6, 653.388564, 727.2, 561.6, 676.944023, 830.623064, 580.473259, 1101.6, 667.2, 705.6, 639.105556, 554.522969, 856.8, 739.2, 1159.2, 1252.406235, 806.4, 647.454583, 1003.160633, 552.0, 707.430832, 701.708239, 941.718054, 539.843003, 556.8, 626.4, 799.926741, 878.4, 806.4, 1317.6, 691.412378, 804.811859, 1090.86434, 537.6, 638.4, 849.6, 595.2, 1337.063487, 772.798511, 633.6, 633.6, 845.654042, 668.29397, 700.901632, 938.513425, 619.165344, 662.4, 607.4459, 631.124372, 628.023494, 980.169081, 614.675906, 662.4, 619.2, 561.6, 1324.8, 842.43785, 1171.93117, 1214.4, 667.2, 619.973889, 1002.782553, 866.208321, 1210.920949, 599.648466, 787.993313, 2027.724442, 619.2, 699.1679, 545.240341, 1382.4, 609.6, 542.4, 655.41333, 673.34265, 619.2, 772.8, 664.980242, 564.466556, 739.2, 792.0, 653.65668, 809.532341, 580.72531, 1577.674417, 571.2, 566.4, 637.063458, 537.6, 799.2, 566.4, 612.102262, 1193.036154, 600.0, 926.4, 612.300581, 633.6, 1300.8, 623.223617, 862.762957, 537.6, 943.2, 921.6, 541.695658, 1265.570302, 615.27228, 615.256301, 669.6, 566.4, 643.826716, 1022.4, 657.6, 614.4, 667.2, 678.100487, 698.4, 561.414794, 844.229478, 626.116259, 784.65781, 547.2, 1300.8, 1254.137899, 798.002689, 639.971388, 715.252366, 926.4, 571.2, 972.0, 574.024018, 632.715382, 739.2, 537.6, 1310.4, 542.14385, 1360.8, 768.0, 720.601429, 576.0, 547.2, 859.599411, 1416.0, 734.4, 1008.0, 643.2, 799.673766, 727.2, 667.2, 628.8, 873.6, 571.2, 628.8, 2893.239678, 629.532731, 1185.988301, 881.360959, 607.095655, 558.099357, 828.0, 540.514115, 621.464468, 547.2, 1228.8, 547.2, 806.4, 542.4, 1353.6, 691.2, 643.2, 631.743039, 830.4, 552.0, 1027.000029, 600.0, 648.0, 925.137143, 600.0, 1027.177255, 1336.931716, 547.2, 540.141566, 537.765151, 571.2, 707.303416, 1067.333126, 807.947292, 618.630955, 710.4, 707.977614, 595.2, 547.2, 1418.4, 955.2, 720.752945, 546.524896, 633.6, 547.2, 537.6]\n"
     ]
    }
   ],
   "source": [
    "# Simple list to check the values of the policy claim amount greater than the 75th percentile.\n",
    "total_claim_list = policy_claim_amount_high[\"Total Claim Amount\"].tolist()\n",
    "print(total_claim_list)"
   ]
  },
  {
   "cell_type": "code",
   "execution_count": 115,
   "id": "8dc87da1",
   "metadata": {},
   "outputs": [
    {
     "name": "stdout",
     "output_type": "stream",
     "text": [
      "782.2282631818181\n",
      "679.597985\n",
      "0   537.60\n",
      "Name: Total Claim Amount, dtype: float64\n",
      "2893.239678\n",
      "537.6\n",
      "292.751639809998\n",
      "85703.5226114428\n",
      "606.52174125\n",
      "851.4\n",
      "264\n"
     ]
    }
   ],
   "source": [
    "# Use DataFrame methods to calculate summary statistics about the high policy claim amount data.\n",
    "# Central tendency\n",
    "print(policy_claim_amount_high[\"Total Claim Amount\"].mean())\n",
    "print(policy_claim_amount_high[\"Total Claim Amount\"].median())\n",
    "print(policy_claim_amount_high[\"Total Claim Amount\"].mode())\n",
    "\n",
    "# Variability\n",
    "print(policy_claim_amount_high[\"Total Claim Amount\"].max())\n",
    "print(policy_claim_amount_high[\"Total Claim Amount\"].min())\n",
    "print(policy_claim_amount_high[\"Total Claim Amount\"].std())\n",
    "print(policy_claim_amount_high[\"Total Claim Amount\"].var())\n",
    "print(policy_claim_amount_high[\"Total Claim Amount\"].quantile(0.25))\n",
    "print(policy_claim_amount_high[\"Total Claim Amount\"].quantile(0.75))\n",
    "\n",
    "\n",
    "# Count\n",
    "print(policy_claim_amount_high[\"Total Claim Amount\"].count())\n",
    "\n"
   ]
  },
  {
   "cell_type": "code",
   "execution_count": null,
   "id": "cba66bf1",
   "metadata": {},
   "outputs": [
    {
     "data": {
      "text/plain": [
       "count     264.00\n",
       "mean      782.23\n",
       "std       292.75\n",
       "min       537.60\n",
       "25%       606.52\n",
       "50%       679.60\n",
       "75%       851.40\n",
       "max     2,893.24\n",
       "Name: Total Claim Amount, dtype: float64"
      ]
     },
     "execution_count": 113,
     "metadata": {},
     "output_type": "execute_result"
    }
   ],
   "source": [
    "# Summary statistics\n",
    "policy_claim_amount_high[\"Total Claim Amount\"].describe()"
   ]
  }
 ],
 "metadata": {
  "kernelspec": {
   "display_name": "Python 3",
   "language": "python",
   "name": "python3"
  },
  "language_info": {
   "codemirror_mode": {
    "name": "ipython",
    "version": 3
   },
   "file_extension": ".py",
   "mimetype": "text/x-python",
   "name": "python",
   "nbconvert_exporter": "python",
   "pygments_lexer": "ipython3",
   "version": "3.12.9"
  }
 },
 "nbformat": 4,
 "nbformat_minor": 5
}
